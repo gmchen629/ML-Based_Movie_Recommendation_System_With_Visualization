{
 "cells": [
  {
   "cell_type": "code",
   "execution_count": 50,
   "metadata": {},
   "outputs": [],
   "source": [
    "import csv\n",
    "import numpy as np\n",
    "from numpy import dot\n",
    "from numpy.linalg import norm\n",
    "import pandas as pd"
   ]
  },
  {
   "cell_type": "code",
   "execution_count": 51,
   "metadata": {},
   "outputs": [],
   "source": [
    "def convert_csv_to_dict(csv_name):\n",
    "    dict_from_csv = {}\n",
    "\n",
    "    # with open(csv_name, mode='r') as csvfile:\n",
    "    #     reader = csv.reader(csvfile)\n",
    "    #     dict_from_csv = {rows[0]:rows[22] for rows in reader}\n",
    "    # dict_from_csv = pd.read_csv(csv_name, header=None, index_col=0, squeeze=True).to_dict()\n",
    "\n",
    "    # with open(csv_name, 'rb') as csvfile:\n",
    "    #     reader = csv.reader(csvfile)\n",
    "    #     dict_from_csv = {c[0]: c[1:] for c in zip(*reader)}\n",
    "\n",
    "    columns = []\n",
    "    with open(csv_name,'r') as csvfile: \n",
    "        reader = csv.reader(csvfile)\n",
    "        for row in reader:\n",
    "            if columns:\n",
    "                for i, value in enumerate(row):\n",
    "                    columns[i].append(value)\n",
    "            else:\n",
    "                # first row\n",
    "                columns = [[value] for value in row]\n",
    "\n",
    "    # you now have a column-major 2D array of your file.\n",
    "    dict_from_csv = {c[0] : c[1:] for c in columns}\n",
    "\n",
    "    return dict_from_csv"
   ]
  },
  {
   "cell_type": "code",
   "execution_count": 66,
   "metadata": {},
   "outputs": [],
   "source": [
    "def get_movies(dict_from_csv):\n",
    "    movies = {}\n",
    "    movies['movie_id'] = []\n",
    "    movies['movie_name'] = []\n",
    "    for i in range(len(dict_from_csv['movie_id'])):\n",
    "        if dict_from_csv['movie_id'][i] not in movies['movie_id']:\n",
    "            movies['movie_id'].append(dict_from_csv['movie_id'][i])\n",
    "            movies['movie_name'].append(dict_from_csv['original_title'][i])\n",
    "    \n",
    "    print(len(movies['movie_id']))\n",
    "    return movies"
   ]
  },
  {
   "cell_type": "code",
   "execution_count": 67,
   "metadata": {},
   "outputs": [],
   "source": [
    "def find_similarity(dict_from_csv, movie_id):\n",
    "    find = False\n",
    "    recommendation = []\n",
    "    for i in range(len(dict_from_csv['track_id'])):\n",
    "        if dict_from_csv['movie_id'][i] != movie_id and find == True:\n",
    "            break\n",
    "        if dict_from_csv['movie_id'][i] == movie_id:\n",
    "            soundtrack_feature = [dict_from_csv['acousticness'][i], dict_from_csv['danceability'][i], dict_from_csv['energy'][i], dict_from_csv['instrumentalness'][i], dict_from_csv['liveness'][i], dict_from_csv['loudness'][i], dict_from_csv['speechiness'][i], dict_from_csv['tempo'][i], dict_from_csv['valence'][i]]\n",
    "            soundtrack_feature = np.array(soundtrack_feature, dtype=float)\n",
    "            ###\n",
    "            dict_from_csv['similarity'] = []\n",
    "            for i in range(len(dict_from_csv['track_id'])):\n",
    "                sample_feature = [dict_from_csv['acousticness'][i], dict_from_csv['danceability'][i], dict_from_csv['energy'][i], dict_from_csv['instrumentalness'][i], dict_from_csv['liveness'][i], dict_from_csv['loudness'][i], dict_from_csv['speechiness'][i], dict_from_csv['tempo'][i], dict_from_csv['valence'][i]]\n",
    "                sample_feature = np.array(sample_feature, dtype=float)\n",
    "                similarity_score = dot(soundtrack_feature, sample_feature)/(norm(soundtrack_feature)*norm(sample_feature))\n",
    "                # print(similarity_scores)\n",
    "                dict_from_csv['similarity'].append(similarity_score)\n",
    "\n",
    "            dataframe = pd.DataFrame.from_dict(dict_from_csv)\n",
    "            dataframe = dataframe.sort_values('similarity', ascending=False).head(3)\n",
    "            for index in dataframe.index:\n",
    "                recommendation.append(index)\n",
    "\n",
    "            # return dataframe\n",
    "            ###\n",
    "            find = True\n",
    "        # soundtrack_feature.append(soundtrack)\n",
    "        \n",
    "    return recommendation\n",
    "\n",
    "    # print(len(soundtrack_feature))\n",
    "    # print(soundtrack_feature)\n",
    "    # soundtrack_feature_list = np.array(soundtrack_feature, dtype=float)\n",
    "\n",
    "    # dict_from_csv['similarity'] = []\n",
    "    # for i in range(len(dict_from_csv['track_id'])):\n",
    "    #     sample_feature = [dict_from_csv['acousticness'][i], dict_from_csv['danceability'][i], dict_from_csv['energy'][i], dict_from_csv['instrumentalness'][i], dict_from_csv['liveness'][i], dict_from_csv['loudness'][i], dict_from_csv['speechiness'][i], dict_from_csv['tempo'][i], dict_from_csv['valence'][i]]\n",
    "    #     sample_feature_list = np.array(sample_feature, dtype=float)\n",
    "    #     similarity_scores = soundtrack_feature_list.dot(sample_feature_list) / (np.linalg.norm(soundtrack_feature_list, axis=1) * np.linalg.norm(sample_feature_list))\n",
    "    #     # print(similarity_scores)\n",
    "    #     similarity_scores_list = np.array(similarity_scores, dtype=float)\n",
    "    #     average_sim_score = np.average(similarity_scores_list)\n",
    "    #     dict_from_csv['similarity'].append(average_sim_score)\n",
    "\n",
    "    # dataframe = pd.DataFrame.from_dict(dict_from_csv)\n",
    "    # return dataframe\n",
    "# sim = dot(liked, sample)/(norm(liked)*norm(sample))\n",
    "# dict_from_csv['similarity'].append(sim)\n"
   ]
  },
  {
   "cell_type": "code",
   "execution_count": 68,
   "metadata": {},
   "outputs": [],
   "source": [
    "def recommendation_candidate(dict_from_csv, movies):\n",
    "    candidates = {}\n",
    "    candidates['movie_id'] = []\n",
    "    candidates['movie_name'] = []\n",
    "    candidates['recommendations'] = []\n",
    "    for i in range(len(movies['movie_id'])):\n",
    "        if i % 100 == 0:\n",
    "            print(str(i) + \" movies completed.\")\n",
    "        recommendation = find_similarity(dict_from_csv, movies['movie_id'][i])\n",
    "        candidates['movie_id'].append(movies['movie_id'][i])\n",
    "        candidates['movie_name'].append(movies['movie_name'][i])\n",
    "        candidates['recommendations'].append(recommendation)\n",
    "\n",
    "    candidates_df = pd.DataFrame.from_dict(candidates)\n",
    "    candidates_df.to_csv(\"Candidates_recommendations.csv\")\n",
    "\n",
    "    return candidates"
   ]
  },
  {
   "cell_type": "code",
   "execution_count": 69,
   "metadata": {},
   "outputs": [
    {
     "name": "stdout",
     "output_type": "stream",
     "text": [
      "7701\n"
     ]
    },
    {
     "ename": "KeyboardInterrupt",
     "evalue": "",
     "output_type": "error",
     "traceback": [
      "\u001b[0;31m---------------------------------------------------------------------------\u001b[0m",
      "\u001b[0;31mKeyboardInterrupt\u001b[0m                         Traceback (most recent call last)",
      "\u001b[1;32m/Users/shiyu/Documents/Study/Gatech/CSE6242/Project/spotify_help.ipynb Cell 6'\u001b[0m in \u001b[0;36m<cell line: 6>\u001b[0;34m()\u001b[0m\n\u001b[1;32m      <a href='vscode-notebook-cell:/Users/shiyu/Documents/Study/Gatech/CSE6242/Project/spotify_help.ipynb#ch0000009?line=2'>3</a>\u001b[0m movies \u001b[39m=\u001b[39m get_movies(dict_from_csv)\n\u001b[1;32m      <a href='vscode-notebook-cell:/Users/shiyu/Documents/Study/Gatech/CSE6242/Project/spotify_help.ipynb#ch0000009?line=3'>4</a>\u001b[0m \u001b[39m# print(movies)\u001b[39;00m\n\u001b[1;32m      <a href='vscode-notebook-cell:/Users/shiyu/Documents/Study/Gatech/CSE6242/Project/spotify_help.ipynb#ch0000009?line=4'>5</a>\u001b[0m \u001b[39m# print(recommendation)\u001b[39;00m\n\u001b[0;32m----> <a href='vscode-notebook-cell:/Users/shiyu/Documents/Study/Gatech/CSE6242/Project/spotify_help.ipynb#ch0000009?line=5'>6</a>\u001b[0m candidates \u001b[39m=\u001b[39m recommendation_candidate(dict_from_csv, movies)\n",
      "\u001b[1;32m/Users/shiyu/Documents/Study/Gatech/CSE6242/Project/spotify_help.ipynb Cell 5'\u001b[0m in \u001b[0;36mrecommendation_candidate\u001b[0;34m(dict_from_csv, movies)\u001b[0m\n\u001b[1;32m      <a href='vscode-notebook-cell:/Users/shiyu/Documents/Study/Gatech/CSE6242/Project/spotify_help.ipynb#ch0000014?line=4'>5</a>\u001b[0m candidates[\u001b[39m'\u001b[39m\u001b[39mrecommendations\u001b[39m\u001b[39m'\u001b[39m] \u001b[39m=\u001b[39m []\n\u001b[1;32m      <a href='vscode-notebook-cell:/Users/shiyu/Documents/Study/Gatech/CSE6242/Project/spotify_help.ipynb#ch0000014?line=5'>6</a>\u001b[0m \u001b[39mfor\u001b[39;00m i \u001b[39min\u001b[39;00m \u001b[39mrange\u001b[39m(\u001b[39mlen\u001b[39m(movies[\u001b[39m'\u001b[39m\u001b[39mmovie_id\u001b[39m\u001b[39m'\u001b[39m])):\n\u001b[0;32m----> <a href='vscode-notebook-cell:/Users/shiyu/Documents/Study/Gatech/CSE6242/Project/spotify_help.ipynb#ch0000014?line=6'>7</a>\u001b[0m     recommendation \u001b[39m=\u001b[39m find_similarity(dict_from_csv, movies[\u001b[39m'\u001b[39;49m\u001b[39mmovie_id\u001b[39;49m\u001b[39m'\u001b[39;49m][i])\n\u001b[1;32m      <a href='vscode-notebook-cell:/Users/shiyu/Documents/Study/Gatech/CSE6242/Project/spotify_help.ipynb#ch0000014?line=7'>8</a>\u001b[0m     candidates[\u001b[39m'\u001b[39m\u001b[39mmovie_id\u001b[39m\u001b[39m'\u001b[39m]\u001b[39m.\u001b[39mappend(movies[\u001b[39m'\u001b[39m\u001b[39mmovie_id\u001b[39m\u001b[39m'\u001b[39m][i])\n\u001b[1;32m      <a href='vscode-notebook-cell:/Users/shiyu/Documents/Study/Gatech/CSE6242/Project/spotify_help.ipynb#ch0000014?line=8'>9</a>\u001b[0m     candidates[\u001b[39m'\u001b[39m\u001b[39mmovie_name\u001b[39m\u001b[39m'\u001b[39m]\u001b[39m.\u001b[39mappend(movies[\u001b[39m'\u001b[39m\u001b[39mmovie_name\u001b[39m\u001b[39m'\u001b[39m][i])\n",
      "\u001b[1;32m/Users/shiyu/Documents/Study/Gatech/CSE6242/Project/spotify_help.ipynb Cell 4'\u001b[0m in \u001b[0;36mfind_similarity\u001b[0;34m(dict_from_csv, movie_id)\u001b[0m\n\u001b[1;32m     <a href='vscode-notebook-cell:/Users/shiyu/Documents/Study/Gatech/CSE6242/Project/spotify_help.ipynb#ch0000008?line=15'>16</a>\u001b[0m     \u001b[39m# print(similarity_scores)\u001b[39;00m\n\u001b[1;32m     <a href='vscode-notebook-cell:/Users/shiyu/Documents/Study/Gatech/CSE6242/Project/spotify_help.ipynb#ch0000008?line=16'>17</a>\u001b[0m     dict_from_csv[\u001b[39m'\u001b[39m\u001b[39msimilarity\u001b[39m\u001b[39m'\u001b[39m]\u001b[39m.\u001b[39mappend(similarity_score)\n\u001b[0;32m---> <a href='vscode-notebook-cell:/Users/shiyu/Documents/Study/Gatech/CSE6242/Project/spotify_help.ipynb#ch0000008?line=18'>19</a>\u001b[0m dataframe \u001b[39m=\u001b[39m pd\u001b[39m.\u001b[39;49mDataFrame\u001b[39m.\u001b[39;49mfrom_dict(dict_from_csv)\n\u001b[1;32m     <a href='vscode-notebook-cell:/Users/shiyu/Documents/Study/Gatech/CSE6242/Project/spotify_help.ipynb#ch0000008?line=19'>20</a>\u001b[0m dataframe \u001b[39m=\u001b[39m dataframe\u001b[39m.\u001b[39msort_values(\u001b[39m'\u001b[39m\u001b[39msimilarity\u001b[39m\u001b[39m'\u001b[39m, ascending\u001b[39m=\u001b[39m\u001b[39mFalse\u001b[39;00m)\u001b[39m.\u001b[39mhead(\u001b[39m3\u001b[39m)\n\u001b[1;32m     <a href='vscode-notebook-cell:/Users/shiyu/Documents/Study/Gatech/CSE6242/Project/spotify_help.ipynb#ch0000008?line=20'>21</a>\u001b[0m \u001b[39mfor\u001b[39;00m index \u001b[39min\u001b[39;00m dataframe\u001b[39m.\u001b[39mindex:\n",
      "File \u001b[0;32m/opt/homebrew/lib/python3.9/site-packages/pandas/core/frame.py:1677\u001b[0m, in \u001b[0;36mDataFrame.from_dict\u001b[0;34m(cls, data, orient, dtype, columns)\u001b[0m\n\u001b[1;32m   <a href='file:///opt/homebrew/lib/python3.9/site-packages/pandas/core/frame.py?line=1673'>1674</a>\u001b[0m     \u001b[39mraise\u001b[39;00m \u001b[39mValueError\u001b[39;00m(\u001b[39m\"\u001b[39m\u001b[39monly recognize index or columns for orient\u001b[39m\u001b[39m\"\u001b[39m)\n\u001b[1;32m   <a href='file:///opt/homebrew/lib/python3.9/site-packages/pandas/core/frame.py?line=1675'>1676</a>\u001b[0m \u001b[39mif\u001b[39;00m orient \u001b[39m!=\u001b[39m \u001b[39m\"\u001b[39m\u001b[39mtight\u001b[39m\u001b[39m\"\u001b[39m:\n\u001b[0;32m-> <a href='file:///opt/homebrew/lib/python3.9/site-packages/pandas/core/frame.py?line=1676'>1677</a>\u001b[0m     \u001b[39mreturn\u001b[39;00m \u001b[39mcls\u001b[39;49m(data, index\u001b[39m=\u001b[39;49mindex, columns\u001b[39m=\u001b[39;49mcolumns, dtype\u001b[39m=\u001b[39;49mdtype)\n\u001b[1;32m   <a href='file:///opt/homebrew/lib/python3.9/site-packages/pandas/core/frame.py?line=1677'>1678</a>\u001b[0m \u001b[39melse\u001b[39;00m:\n\u001b[1;32m   <a href='file:///opt/homebrew/lib/python3.9/site-packages/pandas/core/frame.py?line=1678'>1679</a>\u001b[0m     realdata \u001b[39m=\u001b[39m data[\u001b[39m\"\u001b[39m\u001b[39mdata\u001b[39m\u001b[39m\"\u001b[39m]\n",
      "File \u001b[0;32m/opt/homebrew/lib/python3.9/site-packages/pandas/core/frame.py:636\u001b[0m, in \u001b[0;36mDataFrame.__init__\u001b[0;34m(self, data, index, columns, dtype, copy)\u001b[0m\n\u001b[1;32m    <a href='file:///opt/homebrew/lib/python3.9/site-packages/pandas/core/frame.py?line=629'>630</a>\u001b[0m     mgr \u001b[39m=\u001b[39m \u001b[39mself\u001b[39m\u001b[39m.\u001b[39m_init_mgr(\n\u001b[1;32m    <a href='file:///opt/homebrew/lib/python3.9/site-packages/pandas/core/frame.py?line=630'>631</a>\u001b[0m         data, axes\u001b[39m=\u001b[39m{\u001b[39m\"\u001b[39m\u001b[39mindex\u001b[39m\u001b[39m\"\u001b[39m: index, \u001b[39m\"\u001b[39m\u001b[39mcolumns\u001b[39m\u001b[39m\"\u001b[39m: columns}, dtype\u001b[39m=\u001b[39mdtype, copy\u001b[39m=\u001b[39mcopy\n\u001b[1;32m    <a href='file:///opt/homebrew/lib/python3.9/site-packages/pandas/core/frame.py?line=631'>632</a>\u001b[0m     )\n\u001b[1;32m    <a href='file:///opt/homebrew/lib/python3.9/site-packages/pandas/core/frame.py?line=633'>634</a>\u001b[0m \u001b[39melif\u001b[39;00m \u001b[39misinstance\u001b[39m(data, \u001b[39mdict\u001b[39m):\n\u001b[1;32m    <a href='file:///opt/homebrew/lib/python3.9/site-packages/pandas/core/frame.py?line=634'>635</a>\u001b[0m     \u001b[39m# GH#38939 de facto copy defaults to False only in non-dict cases\u001b[39;00m\n\u001b[0;32m--> <a href='file:///opt/homebrew/lib/python3.9/site-packages/pandas/core/frame.py?line=635'>636</a>\u001b[0m     mgr \u001b[39m=\u001b[39m dict_to_mgr(data, index, columns, dtype\u001b[39m=\u001b[39;49mdtype, copy\u001b[39m=\u001b[39;49mcopy, typ\u001b[39m=\u001b[39;49mmanager)\n\u001b[1;32m    <a href='file:///opt/homebrew/lib/python3.9/site-packages/pandas/core/frame.py?line=636'>637</a>\u001b[0m \u001b[39melif\u001b[39;00m \u001b[39misinstance\u001b[39m(data, ma\u001b[39m.\u001b[39mMaskedArray):\n\u001b[1;32m    <a href='file:///opt/homebrew/lib/python3.9/site-packages/pandas/core/frame.py?line=637'>638</a>\u001b[0m     \u001b[39mimport\u001b[39;00m \u001b[39mnumpy\u001b[39;00m\u001b[39m.\u001b[39;00m\u001b[39mma\u001b[39;00m\u001b[39m.\u001b[39;00m\u001b[39mmrecords\u001b[39;00m \u001b[39mas\u001b[39;00m \u001b[39mmrecords\u001b[39;00m\n",
      "File \u001b[0;32m/opt/homebrew/lib/python3.9/site-packages/pandas/core/internals/construction.py:502\u001b[0m, in \u001b[0;36mdict_to_mgr\u001b[0;34m(data, index, columns, dtype, typ, copy)\u001b[0m\n\u001b[1;32m    <a href='file:///opt/homebrew/lib/python3.9/site-packages/pandas/core/internals/construction.py?line=493'>494</a>\u001b[0m     arrays \u001b[39m=\u001b[39m [\n\u001b[1;32m    <a href='file:///opt/homebrew/lib/python3.9/site-packages/pandas/core/internals/construction.py?line=494'>495</a>\u001b[0m         x\n\u001b[1;32m    <a href='file:///opt/homebrew/lib/python3.9/site-packages/pandas/core/internals/construction.py?line=495'>496</a>\u001b[0m         \u001b[39mif\u001b[39;00m \u001b[39mnot\u001b[39;00m \u001b[39mhasattr\u001b[39m(x, \u001b[39m\"\u001b[39m\u001b[39mdtype\u001b[39m\u001b[39m\"\u001b[39m) \u001b[39mor\u001b[39;00m \u001b[39mnot\u001b[39;00m \u001b[39misinstance\u001b[39m(x\u001b[39m.\u001b[39mdtype, ExtensionDtype)\n\u001b[1;32m    <a href='file:///opt/homebrew/lib/python3.9/site-packages/pandas/core/internals/construction.py?line=496'>497</a>\u001b[0m         \u001b[39melse\u001b[39;00m x\u001b[39m.\u001b[39mcopy()\n\u001b[1;32m    <a href='file:///opt/homebrew/lib/python3.9/site-packages/pandas/core/internals/construction.py?line=497'>498</a>\u001b[0m         \u001b[39mfor\u001b[39;00m x \u001b[39min\u001b[39;00m arrays\n\u001b[1;32m    <a href='file:///opt/homebrew/lib/python3.9/site-packages/pandas/core/internals/construction.py?line=498'>499</a>\u001b[0m     ]\n\u001b[1;32m    <a href='file:///opt/homebrew/lib/python3.9/site-packages/pandas/core/internals/construction.py?line=499'>500</a>\u001b[0m     \u001b[39m# TODO: can we get rid of the dt64tz special case above?\u001b[39;00m\n\u001b[0;32m--> <a href='file:///opt/homebrew/lib/python3.9/site-packages/pandas/core/internals/construction.py?line=501'>502</a>\u001b[0m \u001b[39mreturn\u001b[39;00m arrays_to_mgr(arrays, columns, index, dtype\u001b[39m=\u001b[39;49mdtype, typ\u001b[39m=\u001b[39;49mtyp, consolidate\u001b[39m=\u001b[39;49mcopy)\n",
      "\u001b[0;31mKeyboardInterrupt\u001b[0m: "
     ]
    }
   ],
   "source": [
    "dict_from_csv = convert_csv_to_dict(\"movie-music.csv\")\n",
    "# recommendation = find_similarity(dict_from_csv, \"Toy Story\")\n",
    "movies = get_movies(dict_from_csv)\n",
    "# print(movies)\n",
    "# print(recommendation)\n",
    "candidates = recommendation_candidate(dict_from_csv, movies)"
   ]
  }
 ],
 "metadata": {
  "interpreter": {
   "hash": "aee8b7b246df8f9039afb4144a1f6fd8d2ca17a180786b69acc140d282b71a49"
  },
  "kernelspec": {
   "display_name": "Python 3.9.12 64-bit",
   "language": "python",
   "name": "python3"
  },
  "language_info": {
   "codemirror_mode": {
    "name": "ipython",
    "version": 3
   },
   "file_extension": ".py",
   "mimetype": "text/x-python",
   "name": "python",
   "nbconvert_exporter": "python",
   "pygments_lexer": "ipython3",
   "version": "3.9.12"
  },
  "orig_nbformat": 4
 },
 "nbformat": 4,
 "nbformat_minor": 2
}
